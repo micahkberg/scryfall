{
 "cells": [
  {
   "cell_type": "code",
   "execution_count": 1,
   "metadata": {},
   "outputs": [],
   "source": [
    "import pandas as pd\n",
    "import scryfall\n",
    "\"\"\"\n",
    "fastest probably to manually download all card file, save JSON to this folder and replace the filename below\n",
    "make sure to update the file below in order to have current price and card data\n",
    "price data is considered stale after 24 hours\n",
    "\"\"\"\n",
    "\n",
    "#takes a json file downloaded from scryfall\n",
    "fname = \"all-cards-20210224101318.json\"\n",
    "#take a .dek xml file exported from MTGO\n",
    "dekname = \"Full_Trade_List.dek\"\n",
    "\n",
    "basiclands = [\"Plains\",\"Island\",\"Swamp\",\"Mountain\",\"Forest\"]\n",
    "\n",
    "#todo\n",
    "# 1. done (stripped done to which rows have at least either a mtgo_id or mtgo_foil_id)\n",
    "# 2. done (selected which columns to keep)\n",
    "# 3. done (load mtgo .dek file)\n",
    "# 4. done (get prices for each item and then create a column and that dataframe with the price)\n",
    "# 5. clean up and simplify the code & comment better\n",
    "# 6. add interesting data print out in a final cell\n",
    "# 7. add price of tix to file"
   ]
  },
  {
   "cell_type": "code",
   "execution_count": 2,
   "metadata": {},
   "outputs": [],
   "source": [
    "#takes a while, loads in the scryfall file, drops some of the less important columns\n",
    "scry_df = scryfall.read_scry(fname)\n",
    "collection = scryfall.read_dek(dekname)\n"
   ]
  },
  {
   "cell_type": "code",
   "execution_count": 3,
   "metadata": {},
   "outputs": [],
   "source": [
    "#shrinks the scryfall file to just stuff that we want to work with\n",
    "simpler_cols = pd.Series(['mtgo_id','prices'])\n",
    "small_scry = scry_df[simpler_cols].dropna(subset=[\"mtgo_id\"])"
   ]
  },
  {
   "cell_type": "code",
   "execution_count": 4,
   "metadata": {},
   "outputs": [],
   "source": [
    "#joining the two tables via the mtgo id value\n",
    "collection = collection.set_index('mtgo_id').join(small_scry.set_index('mtgo_id'))"
   ]
  },
  {
   "cell_type": "code",
   "execution_count": 5,
   "metadata": {},
   "outputs": [],
   "source": [
    "collection = collection.reset_index()\n",
    "prices = (collection['prices'])\n",
    "tix = list()\n",
    "for price in prices:\n",
    "    if type(price) == dict:\n",
    "        tix.append(float(price['tix']))\n",
    "    else:\n",
    "        tix.append(1)\n",
    "collection['tix'] = pd.Series(tix)"
   ]
  },
  {
   "cell_type": "code",
   "execution_count": 40,
   "metadata": {},
   "outputs": [
    {
     "name": "stdout",
     "output_type": "stream",
     "text": [
      "Value in Tix: 654.5600000000001\n",
      "avg value:0.07378772533926982\n",
      "mode value:0.03\n",
      "\n",
      "Top 5 most valuable cards\n",
      "        tix              Name\n",
      "2744  23.67       Black Lotus\n",
      "2708  13.05     Demonic Tutor\n",
      "2757   7.05  Wheel of Fortune\n",
      "2715   6.17      Mox Sapphire\n",
      "21     5.99           Impulse\n",
      "\n",
      "Number of penny cards: 1557\n",
      "\n",
      "Number of unique basic lands: \n",
      "Forest      229\n",
      "Island      222\n",
      "Swamp       218\n",
      "Mountain    217\n",
      "Plains      217\n",
      "Name: Name, dtype: int64\n",
      "\n",
      "Most common printing\n",
      "3987      Plains\n",
      "3988      Island\n",
      "3989       Swamp\n",
      "3990    Mountain\n",
      "3991      Forest\n",
      "Name: Name, dtype: object\n",
      "\n",
      "Most common cards\n",
      "Name\n",
      "Forest                   307\n",
      "Mountain                 269\n",
      "Island                   267\n",
      "Plains                   263\n",
      "Swamp                    260\n",
      "Evolving Wilds            25\n",
      "Giant Growth              19\n",
      "Bloodfell Caves           17\n",
      "Fog                       15\n",
      "Traveler's Amulet         15\n",
      "Blossoming Sands          14\n",
      "Swiftwater Cliffs         14\n",
      "Dismal Backwater          13\n",
      "Elixir of Immortality     13\n",
      "Merfolk Looter            13\n",
      "Name: Quantity, dtype: int32\n"
     ]
    }
   ],
   "source": [
    "# Returns total value of collection in Tix (~USD)\n",
    "collection['Quantity'] = collection['Quantity'].astype('int')\n",
    "\n",
    "print( \"Value in Tix: \" +str((collection['tix'] * collection['Quantity']).sum() ))\n",
    "#Average Value\n",
    "print(\"avg value:\" + str(collection['tix'].mean()))\n",
    "print(\"mode value:\" + str(collection['tix'].mode()[0]))\n",
    "#Most valuable cards:\n",
    "print(\"\\nTop 5 most valuable cards\")\n",
    "print(collection[['tix','Name']].sort_values('tix',ascending=False).head(5))\n",
    "#Number of cards worth 2 cents or less (not actually the legal PD cards)\n",
    "print(\"\\nNumber of penny cards: \" + str(len(collection[collection['tix']<=.02])))\n",
    "#counts of unique basic lands\n",
    "print(\"\\nNumber of unique basic lands: \\n\" + str(collection[collection['Name'].isin(basiclands)]['Name'].value_counts()))\n",
    "#most common printing\n",
    "print(\"\\nMost common printing\\n\" + str(collection[collection['Quantity']==collection['Quantity'].max()]['Name']))\n",
    "#most common card\n",
    "print(\"\\nMost common cards\\n\" + str(collection.groupby('Name')['Quantity'].sum().nlargest(15)))"
   ]
  },
  {
   "cell_type": "code",
   "execution_count": 38,
   "metadata": {},
   "outputs": [
    {
     "data": {
      "text/plain": [
       "Name\n",
       "Forest                   307\n",
       "Mountain                 269\n",
       "Island                   267\n",
       "Plains                   263\n",
       "Swamp                    260\n",
       "Evolving Wilds            25\n",
       "Giant Growth              19\n",
       "Bloodfell Caves           17\n",
       "Fog                       15\n",
       "Traveler's Amulet         15\n",
       "Blossoming Sands          14\n",
       "Swiftwater Cliffs         14\n",
       "Dismal Backwater          13\n",
       "Elixir of Immortality     13\n",
       "Merfolk Looter            13\n",
       "Name: Quantity, dtype: int32"
      ]
     },
     "execution_count": 38,
     "metadata": {},
     "output_type": "execute_result"
    }
   ],
   "source": [
    "collection.groupby('Name')['Quantity'].sum().nlargest(15)\n",
    "    "
   ]
  },
  {
   "cell_type": "code",
   "execution_count": null,
   "metadata": {},
   "outputs": [],
   "source": []
  }
 ],
 "metadata": {
  "kernelspec": {
   "display_name": "Python 3",
   "language": "python",
   "name": "python3"
  },
  "language_info": {
   "codemirror_mode": {
    "name": "ipython",
    "version": 3
   },
   "file_extension": ".py",
   "mimetype": "text/x-python",
   "name": "python",
   "nbconvert_exporter": "python",
   "pygments_lexer": "ipython3",
   "version": "3.7.6"
  }
 },
 "nbformat": 4,
 "nbformat_minor": 4
}
