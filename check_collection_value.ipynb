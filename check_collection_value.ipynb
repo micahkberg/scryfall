{
 "cells": [
  {
   "cell_type": "code",
   "execution_count": 1,
   "metadata": {},
   "outputs": [],
   "source": [
    "import pandas as pd\n",
    "import scryfall\n",
    "\"\"\"\n",
    "fastest probably to manually download all card file, save JSON to this folder and replace the filename below\n",
    "make sure to update the file below in order to have current price and card data\n",
    "price data is considered stale after 24 hours\n",
    "\"\"\"\n",
    "\n",
    "#takes a json file downloaded from scryfall\n",
    "fname = \"all-cards-20210224101318.json\"\n",
    "#take a .dek xml file exported from MTGO\n",
    "dekname = \"Full_Trade_List.dek\"\n",
    "\n",
    "\n",
    "#todo\n",
    "# 1. done (stripped done to which rows have at least either a mtgo_id or mtgo_foil_id)\n",
    "# 2. done (selected which columns to keep)\n",
    "# 3. done (load mtgo .dek file)\n",
    "# 4. done (get prices for each item and then create a column and that dataframe with the price)\n",
    "# 5. clean up and simplify the code & comment better\n",
    "# 6. add interesting data print out in a final cell\n",
    "# 7. add price of tix to file"
   ]
  },
  {
   "cell_type": "code",
   "execution_count": 2,
   "metadata": {},
   "outputs": [],
   "source": [
    "#takes a while, loads in the scryfall file, drops some of the less important columns\n",
    "scry_df = scryfall.read_scry(fname)\n",
    "collection = scryfall.read_dek(dekname)\n"
   ]
  },
  {
   "cell_type": "code",
   "execution_count": 3,
   "metadata": {},
   "outputs": [],
   "source": [
    "#shrinks the scryfall file to just stuff that we want to work with\n",
    "simpler_cols = pd.Series(['mtgo_id','prices'])\n",
    "small_scry = scry_df[simpler_cols].dropna(subset=[\"mtgo_id\"])"
   ]
  },
  {
   "cell_type": "code",
   "execution_count": 4,
   "metadata": {},
   "outputs": [],
   "source": [
    "#joining the two tables via the mtgo id value\n",
    "collection = collection.set_index('mtgo_id').join(small_scry.set_index('mtgo_id'))"
   ]
  },
  {
   "cell_type": "code",
   "execution_count": 6,
   "metadata": {},
   "outputs": [],
   "source": [
    "collection = collection.reset_index()\n",
    "prices = (collection['prices'])\n",
    "tix = list()\n",
    "for price in prices:\n",
    "    if type(price) == dict:\n",
    "        tix.append(float(price['tix']))\n",
    "    else:\n",
    "        tix.append(1)\n",
    "collection['tix'] = pd.Series(tix)"
   ]
  },
  {
   "cell_type": "code",
   "execution_count": 8,
   "metadata": {},
   "outputs": [
    {
     "data": {
      "text/plain": [
       "654.5600000000001"
      ]
     },
     "execution_count": 8,
     "metadata": {},
     "output_type": "execute_result"
    }
   ],
   "source": [
    "# Returns total value of collection in Tix (~USD)\n",
    "(collection['tix'] * collection['Quantity'].astype(int)).sum()"
   ]
  },
  {
   "cell_type": "code",
   "execution_count": null,
   "metadata": {},
   "outputs": [],
   "source": []
  },
  {
   "cell_type": "code",
   "execution_count": null,
   "metadata": {},
   "outputs": [],
   "source": []
  }
 ],
 "metadata": {
  "kernelspec": {
   "display_name": "Python 3",
   "language": "python",
   "name": "python3"
  },
  "language_info": {
   "codemirror_mode": {
    "name": "ipython",
    "version": 3
   },
   "file_extension": ".py",
   "mimetype": "text/x-python",
   "name": "python",
   "nbconvert_exporter": "python",
   "pygments_lexer": "ipython3",
   "version": "3.7.6"
  }
 },
 "nbformat": 4,
 "nbformat_minor": 4
}
