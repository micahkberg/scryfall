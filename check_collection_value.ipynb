{
 "cells": [
  {
   "cell_type": "code",
   "execution_count": 1,
   "metadata": {},
   "outputs": [],
   "source": [
    "import pandas as pd\n",
    "import scryfall\n",
    "\"\"\"\n",
    "fastest probably to manually download all card file, save JSON to this folder and replace the filename below\n",
    "make sure to update the file below in order to have current price and card data\n",
    "price data is considered stale after 24 hours\n",
    "\"\"\"\n",
    "\n",
    "#takes a json file downloaded from scryfall\n",
    "#fname = \"all-cards-20210224101318.json\"\n",
    "fname = \"default-cards-20210318210305.json\"\n",
    "#takes a .dek xml file exported from MTGO\n",
    "dekname = \"Full_Trade_List.dek\"\n",
    "\n",
    "basiclands = [\"Plains\",\"Island\",\"Swamp\",\"Mountain\",\"Forest\"]\n",
    "\n",
    "#todo\n",
    "# 1. done (stripped done to which rows have at least either a mtgo_id or mtgo_foil_id)\n",
    "# 2. done (selected which columns to keep)\n",
    "# 3. done (load mtgo .dek file)\n",
    "# 4. done (get prices for each item and then create a column and that dataframe with the price)\n",
    "# 5. clean up and simplify the code & comment better\n",
    "# 6. done (add interesting data print out in a final cell)\n",
    "# 7. done(add price of tix to file)\n",
    "# 8. fix prices for foils"
   ]
  },
  {
   "cell_type": "code",
   "execution_count": 2,
   "metadata": {},
   "outputs": [],
   "source": [
    "#takes a while, loads in the scryfall file, drops some of the less important columns\n",
    "scry_df = scryfall.read_scry(fname)\n",
    "collection = scryfall.read_dek(dekname)\n"
   ]
  },
  {
   "cell_type": "code",
   "execution_count": null,
   "metadata": {},
   "outputs": [],
   "source": [
    "#shrinks the scryfall file to just stuff that we want to work with\n",
    "simpler_cols = pd.Series(['mtgo_id','mtgo_foil_id','prices'])\n",
    "small_scry = scry_df[simpler_cols]#.dropna(thresh=2,subset=[\"mtgo_id\",\"mtgo_foil_id\"])"
   ]
  },
  {
   "cell_type": "code",
   "execution_count": null,
   "metadata": {},
   "outputs": [],
   "source": [
    "#joining the two tables via the mtgo id value\n",
    "collection = collection.set_index('mtgo_id').join(small_scry.set_index('mtgo_id'))\n",
    "#when we joined the collection with the price guide, i set the index to be the mtgo ID, undoing that now\n",
    "collection = collection.reset_index()"
   ]
  },
  {
   "cell_type": "code",
   "execution_count": null,
   "metadata": {},
   "outputs": [],
   "source": [
    "\n",
    "#for each price dict in the price column, we are extracting the 'tix' value where there is one\n",
    "\n",
    "tix = list()\n",
    "for index,row in collection.iterrows():\n",
    "    if type(row['prices']) == dict:\n",
    "        tix.append(float(row['prices']['tix']))\n",
    "    elif row['Name'] == \"Event Ticket\":\n",
    "        tix.append(1)\n",
    "    elif row['mtgo_id'] == 249:\n",
    "        tix.append(.05) #this island isn't in the database maybe? skip it for now come back to checking on this\n",
    "    else: #find foil price by going back and finding the row with the foil id and then getting the price from that line\n",
    "        foil_price = small_scry[small_scry['mtgo_foil_id']==row['mtgo_id']]['prices'].values[0]['tix']\n",
    "        tix.append(foil_price)\n",
    "#add a new column that has the tix values for each line\n",
    "collection['tix'] = pd.Series(tix)"
   ]
  },
  {
   "cell_type": "code",
   "execution_count": null,
   "metadata": {},
   "outputs": [],
   "source": [
    "# Returns total value of collection in Tix (~USD)\n",
    "collection['Quantity'] = collection['Quantity'].astype('int')\n",
    "\n",
    "print( \"Value in Tix: \" +str((collection['tix'] * collection['Quantity']).sum() ))\n",
    "\n",
    "#Average Value\n",
    "print(\"avg value:\" + str(collection['tix'].mean()))\n",
    "print(\"mode value:\" + str(collection['tix'].mode()[0]))\n",
    "\n",
    "#Most valuable cards:\n",
    "print(\"\\nTop 5 most valuable cards\")\n",
    "print(collection[['tix','Name']].sort_values('tix',ascending=False).head(5))\n",
    "\n",
    "#Number of cards worth 2 cents or less (not actually the legal PD cards)\n",
    "print(\"\\nNumber of penny cards: \" + str(len(collection[collection['tix']<=.02])))\n",
    "\n",
    "#counts of unique basic lands\n",
    "print(\"\\nNumber of unique basic lands: \\n\" + str(collection[collection['Name'].isin(basiclands)]['Name'].value_counts()))\n",
    "\n",
    "#most common printing\n",
    "print(\"\\nMost common printing\\n\" + str(collection[collection['Quantity']==collection['Quantity'].max()]['Name']))\n",
    "\n",
    "#most common card\n",
    "print(\"\\nMost common cards\\n\" + str(collection.groupby('Name')['Quantity'].sum().nlargest(15)))"
   ]
  },
  {
   "cell_type": "code",
   "execution_count": null,
   "metadata": {},
   "outputs": [],
   "source": []
  },
  {
   "cell_type": "code",
   "execution_count": null,
   "metadata": {},
   "outputs": [],
   "source": [
    "scry_df[scry_df['name']=='Black Lotus']"
   ]
  },
  {
   "cell_type": "code",
   "execution_count": null,
   "metadata": {},
   "outputs": [],
   "source": []
  },
  {
   "cell_type": "code",
   "execution_count": null,
   "metadata": {},
   "outputs": [],
   "source": [
    "mtgo_cards = scry_df[scry_df[\"mtgo_id\"].notna()]\n",
    "mtgo_foils = mtgo_cards[mtgo_cards[\"mtgo_foil_id\"].notna()]"
   ]
  },
  {
   "cell_type": "code",
   "execution_count": null,
   "metadata": {},
   "outputs": [],
   "source": [
    "mtgo_foils[mtgo_foils['mtgo_id']+1 != mtgo_foils['mtgo_foil_id']]"
   ]
  },
  {
   "cell_type": "code",
   "execution_count": null,
   "metadata": {},
   "outputs": [],
   "source": [
    "scry_df.head()"
   ]
  },
  {
   "cell_type": "code",
   "execution_count": null,
   "metadata": {},
   "outputs": [],
   "source": [
    "test['prices']"
   ]
  },
  {
   "cell_type": "code",
   "execution_count": null,
   "metadata": {},
   "outputs": [],
   "source": [
    "small_scry[small_scry[\"mtgo_foil_id\"]==collection[collection[\"mtgo_id\"==249]][\"mtgo_id\"]]#[\"prices\"][0][\"tix\"]"
   ]
  },
  {
   "cell_type": "code",
   "execution_count": null,
   "metadata": {},
   "outputs": [],
   "source": [
    "collection[collection['prices'].isna()].head()"
   ]
  },
  {
   "cell_type": "code",
   "execution_count": null,
   "metadata": {},
   "outputs": [],
   "source": [
    "small_scry[small_scry[\"mtgo_foil_id\"]==249]"
   ]
  },
  {
   "cell_type": "code",
   "execution_count": null,
   "metadata": {},
   "outputs": [],
   "source": [
    "collection[\"mtgo_id\"].head()"
   ]
  },
  {
   "cell_type": "code",
   "execution_count": null,
   "metadata": {},
   "outputs": [],
   "source": [
    "scry_df[scry_df[\"mtgo_id\"]==34716]"
   ]
  },
  {
   "cell_type": "code",
   "execution_count": null,
   "metadata": {},
   "outputs": [],
   "source": [
    "collection[collection[\"mtgo_id\"]==34716]"
   ]
  },
  {
   "cell_type": "code",
   "execution_count": null,
   "metadata": {},
   "outputs": [],
   "source": [
    "small_scry[small_scry[\"mtgo_id\"]==34716]"
   ]
  },
  {
   "cell_type": "code",
   "execution_count": 5,
   "metadata": {},
   "outputs": [
    {
     "data": {
      "text/html": [
       "<div>\n",
       "<style scoped>\n",
       "    .dataframe tbody tr th:only-of-type {\n",
       "        vertical-align: middle;\n",
       "    }\n",
       "\n",
       "    .dataframe tbody tr th {\n",
       "        vertical-align: top;\n",
       "    }\n",
       "\n",
       "    .dataframe thead th {\n",
       "        text-align: right;\n",
       "    }\n",
       "</style>\n",
       "<table border=\"1\" class=\"dataframe\">\n",
       "  <thead>\n",
       "    <tr style=\"text-align: right;\">\n",
       "      <th></th>\n",
       "      <th>mtgo_id</th>\n",
       "      <th>Quantity</th>\n",
       "      <th>Name</th>\n",
       "    </tr>\n",
       "  </thead>\n",
       "  <tbody>\n",
       "    <tr>\n",
       "      <th>1453</th>\n",
       "      <td>34716</td>\n",
       "      <td>1</td>\n",
       "      <td>Swamp</td>\n",
       "    </tr>\n",
       "    <tr>\n",
       "      <th>1454</th>\n",
       "      <td>34718</td>\n",
       "      <td>1</td>\n",
       "      <td>Forest</td>\n",
       "    </tr>\n",
       "    <tr>\n",
       "      <th>1455</th>\n",
       "      <td>34724</td>\n",
       "      <td>1</td>\n",
       "      <td>Plains</td>\n",
       "    </tr>\n",
       "    <tr>\n",
       "      <th>1506</th>\n",
       "      <td>36121</td>\n",
       "      <td>3</td>\n",
       "      <td>Priest of Titania</td>\n",
       "    </tr>\n",
       "    <tr>\n",
       "      <th>1638</th>\n",
       "      <td>37603</td>\n",
       "      <td>3</td>\n",
       "      <td>Liliana's Specter</td>\n",
       "    </tr>\n",
       "    <tr>\n",
       "      <th>1798</th>\n",
       "      <td>39621</td>\n",
       "      <td>4</td>\n",
       "      <td>Everflowing Chalice</td>\n",
       "    </tr>\n",
       "    <tr>\n",
       "      <th>2027</th>\n",
       "      <td>43500</td>\n",
       "      <td>4</td>\n",
       "      <td>Curse of Thirst</td>\n",
       "    </tr>\n",
       "    <tr>\n",
       "      <th>2357</th>\n",
       "      <td>48008</td>\n",
       "      <td>1</td>\n",
       "      <td>Reliquary Tower</td>\n",
       "    </tr>\n",
       "    <tr>\n",
       "      <th>2609</th>\n",
       "      <td>51539</td>\n",
       "      <td>2</td>\n",
       "      <td>Elvish Mystic</td>\n",
       "    </tr>\n",
       "    <tr>\n",
       "      <th>2828</th>\n",
       "      <td>53839</td>\n",
       "      <td>1</td>\n",
       "      <td>Bile Blight</td>\n",
       "    </tr>\n",
       "    <tr>\n",
       "      <th>2830</th>\n",
       "      <td>53847</td>\n",
       "      <td>1</td>\n",
       "      <td>Temple of Mystery</td>\n",
       "    </tr>\n",
       "    <tr>\n",
       "      <th>2922</th>\n",
       "      <td>54544</td>\n",
       "      <td>4</td>\n",
       "      <td>Repeal</td>\n",
       "    </tr>\n",
       "    <tr>\n",
       "      <th>3155</th>\n",
       "      <td>58268</td>\n",
       "      <td>4</td>\n",
       "      <td>Anticipate</td>\n",
       "    </tr>\n",
       "    <tr>\n",
       "      <th>3247</th>\n",
       "      <td>58980</td>\n",
       "      <td>1</td>\n",
       "      <td>Arcane Sanctum</td>\n",
       "    </tr>\n",
       "    <tr>\n",
       "      <th>4146</th>\n",
       "      <td>65641</td>\n",
       "      <td>1</td>\n",
       "      <td>Avatar - Captain Lannery Storm</td>\n",
       "    </tr>\n",
       "    <tr>\n",
       "      <th>4183</th>\n",
       "      <td>66822</td>\n",
       "      <td>3</td>\n",
       "      <td>Gleaming Barrier</td>\n",
       "    </tr>\n",
       "    <tr>\n",
       "      <th>4258</th>\n",
       "      <td>67600</td>\n",
       "      <td>2</td>\n",
       "      <td>Syncopate</td>\n",
       "    </tr>\n",
       "    <tr>\n",
       "      <th>4306</th>\n",
       "      <td>67894</td>\n",
       "      <td>1</td>\n",
       "      <td>Forebear's Blade</td>\n",
       "    </tr>\n",
       "    <tr>\n",
       "      <th>4617</th>\n",
       "      <td>72892</td>\n",
       "      <td>1</td>\n",
       "      <td>Astral Drift</td>\n",
       "    </tr>\n",
       "    <tr>\n",
       "      <th>4766</th>\n",
       "      <td>80140</td>\n",
       "      <td>1</td>\n",
       "      <td>Reconnaissance Mission</td>\n",
       "    </tr>\n",
       "    <tr>\n",
       "      <th>4795</th>\n",
       "      <td>80298</td>\n",
       "      <td>1</td>\n",
       "      <td>Auspicious Starrix</td>\n",
       "    </tr>\n",
       "    <tr>\n",
       "      <th>4819</th>\n",
       "      <td>80418</td>\n",
       "      <td>1</td>\n",
       "      <td>Ruinous Ultimatum</td>\n",
       "    </tr>\n",
       "    <tr>\n",
       "      <th>4827</th>\n",
       "      <td>80490</td>\n",
       "      <td>1</td>\n",
       "      <td>Sleeper Dart</td>\n",
       "    </tr>\n",
       "    <tr>\n",
       "      <th>4876</th>\n",
       "      <td>81821</td>\n",
       "      <td>1</td>\n",
       "      <td>Thriving Moor</td>\n",
       "    </tr>\n",
       "    <tr>\n",
       "      <th>4877</th>\n",
       "      <td>81828</td>\n",
       "      <td>1</td>\n",
       "      <td>Terramorphic Expanse</td>\n",
       "    </tr>\n",
       "  </tbody>\n",
       "</table>\n",
       "</div>"
      ],
      "text/plain": [
       "      mtgo_id Quantity                            Name\n",
       "1453    34716        1                           Swamp\n",
       "1454    34718        1                          Forest\n",
       "1455    34724        1                          Plains\n",
       "1506    36121        3               Priest of Titania\n",
       "1638    37603        3               Liliana's Specter\n",
       "1798    39621        4             Everflowing Chalice\n",
       "2027    43500        4                 Curse of Thirst\n",
       "2357    48008        1                 Reliquary Tower\n",
       "2609    51539        2                   Elvish Mystic\n",
       "2828    53839        1                     Bile Blight\n",
       "2830    53847        1               Temple of Mystery\n",
       "2922    54544        4                          Repeal\n",
       "3155    58268        4                      Anticipate\n",
       "3247    58980        1                  Arcane Sanctum\n",
       "4146    65641        1  Avatar - Captain Lannery Storm\n",
       "4183    66822        3                Gleaming Barrier\n",
       "4258    67600        2                       Syncopate\n",
       "4306    67894        1                Forebear's Blade\n",
       "4617    72892        1                    Astral Drift\n",
       "4766    80140        1          Reconnaissance Mission\n",
       "4795    80298        1              Auspicious Starrix\n",
       "4819    80418        1               Ruinous Ultimatum\n",
       "4827    80490        1                    Sleeper Dart\n",
       "4876    81821        1                   Thriving Moor\n",
       "4877    81828        1            Terramorphic Expanse"
      ]
     },
     "execution_count": 5,
     "metadata": {},
     "output_type": "execute_result"
    }
   ],
   "source": [
    "collection[~collection[\"mtgo_id\"].isin(scry_df[\"mtgo_id\"]) & ~collection[\"mtgo_id\"].isin(scry_df[\"mtgo_foil_id\"])]"
   ]
  },
  {
   "cell_type": "code",
   "execution_count": null,
   "metadata": {},
   "outputs": [],
   "source": []
  }
 ],
 "metadata": {
  "kernelspec": {
   "display_name": "Python 3",
   "language": "python",
   "name": "python3"
  },
  "language_info": {
   "codemirror_mode": {
    "name": "ipython",
    "version": 3
   },
   "file_extension": ".py",
   "mimetype": "text/x-python",
   "name": "python",
   "nbconvert_exporter": "python",
   "pygments_lexer": "ipython3",
   "version": "3.7.6"
  }
 },
 "nbformat": 4,
 "nbformat_minor": 4
}
