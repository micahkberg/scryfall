{
 "cells": [
  {
   "cell_type": "code",
   "execution_count": 18,
   "metadata": {},
   "outputs": [],
   "source": [
    "import pandas as pd\n",
    "#why doesnt pandas support xml lol\n",
    "import xml.etree.ElementTree as ET\n",
    "#for reading the dictionary in the prices column i guess\n",
    "import json\n",
    "\"\"\"\n",
    "fastest probably to manually download all card file, save JSON to this folder and replace the filename below\n",
    "make sure to update the file below in order to have current price and card data\n",
    "price data is considered stale after 24 hours\n",
    "\"\"\"\n",
    "\n",
    "#takes a json file downloaded from scryfall\n",
    "fname = \"all-cards-20210224101318.json\"\n",
    "#take a .dek xml file exported from MTGO\n",
    "dekname = \"Full_Trade_List.dek\"\n",
    "\n",
    "\n",
    "#todo\n",
    "# 1. done (stripped done to which rows have at least either a mtgo_id or mtgo_foil_id)\n",
    "# 2. done (selected which columns to keep)\n",
    "# 3. done (load mtgo .dek file)\n",
    "# 4. done (get prices for each item and then create a column and that dataframe with the price)\n",
    "# 5. clean up and simplify the code & comment better\n",
    "# 6. add interesting data print out in a final cell\n",
    "# 7. add price of tix to file"
   ]
  },
  {
   "cell_type": "code",
   "execution_count": 2,
   "metadata": {},
   "outputs": [],
   "source": [
    "#takes a while, loads in the scryfall file, defines the columns to keep\n",
    "\n",
    "scryfall = pd.read_json(fname)\n",
    "cols_keep = pd.Index(['object','id','mtgo_id','mtgo_foil_id','name','mana_cost','type_line','prices'])\n",
    "simpler_cols = pd.Series(['mtgo_id','prices'])"
   ]
  },
  {
   "cell_type": "code",
   "execution_count": 3,
   "metadata": {},
   "outputs": [],
   "source": [
    "#shrinks the scryfall file to just stuff that we want to work with\n",
    "\n",
    "small_scry = scryfall[simpler_cols].dropna(subset=[\"mtgo_id\"])"
   ]
  },
  {
   "cell_type": "code",
   "execution_count": 4,
   "metadata": {},
   "outputs": [],
   "source": [
    "#brings in your collection and parses the xml file into a pandas df\n",
    "file = open(dekname, 'r')\n",
    "collection_xml = file.read()\n",
    "etree = ET.fromstring(collection_xml)\n",
    "cols = ['mtgo_id','Quantity','Name']\n",
    "collection_df = pd.DataFrame(columns=cols)\n",
    "for i in etree:\n",
    "    row = pd.Series([i.get(\"CatID\"),i.get('Quantity'),i.get('Name')],index=cols)\n",
    "    collection_df = collection_df.append(row,ignore_index=True)\n",
    "collection_df = collection_df.dropna().astype({\"mtgo_id\": int})"
   ]
  },
  {
   "cell_type": "code",
   "execution_count": 6,
   "metadata": {},
   "outputs": [
    {
     "ename": "KeyError",
     "evalue": "\"None of ['mtgo_id'] are in the columns\"",
     "output_type": "error",
     "traceback": [
      "\u001b[1;31m---------------------------------------------------------------------------\u001b[0m",
      "\u001b[1;31mKeyError\u001b[0m                                  Traceback (most recent call last)",
      "\u001b[1;32m<ipython-input-6-a5cc37a0769f>\u001b[0m in \u001b[0;36m<module>\u001b[1;34m\u001b[0m\n\u001b[0;32m      1\u001b[0m \u001b[1;31m#joining the two tables via the mtgo id value\u001b[0m\u001b[1;33m\u001b[0m\u001b[1;33m\u001b[0m\u001b[1;33m\u001b[0m\u001b[0m\n\u001b[1;32m----> 2\u001b[1;33m \u001b[0mcollection_df\u001b[0m \u001b[1;33m=\u001b[0m \u001b[0mcollection_df\u001b[0m\u001b[1;33m.\u001b[0m\u001b[0mset_index\u001b[0m\u001b[1;33m(\u001b[0m\u001b[1;34m'mtgo_id'\u001b[0m\u001b[1;33m)\u001b[0m\u001b[1;33m.\u001b[0m\u001b[0mjoin\u001b[0m\u001b[1;33m(\u001b[0m\u001b[0msmall_scry\u001b[0m\u001b[1;33m.\u001b[0m\u001b[0mset_index\u001b[0m\u001b[1;33m(\u001b[0m\u001b[1;34m'mtgo_id'\u001b[0m\u001b[1;33m)\u001b[0m\u001b[1;33m)\u001b[0m\u001b[1;33m\u001b[0m\u001b[1;33m\u001b[0m\u001b[0m\n\u001b[0m",
      "\u001b[1;32m~\\anaconda3\\lib\\site-packages\\pandas\\core\\frame.py\u001b[0m in \u001b[0;36mset_index\u001b[1;34m(self, keys, drop, append, inplace, verify_integrity)\u001b[0m\n\u001b[0;32m   4301\u001b[0m \u001b[1;33m\u001b[0m\u001b[0m\n\u001b[0;32m   4302\u001b[0m         \u001b[1;32mif\u001b[0m \u001b[0mmissing\u001b[0m\u001b[1;33m:\u001b[0m\u001b[1;33m\u001b[0m\u001b[1;33m\u001b[0m\u001b[0m\n\u001b[1;32m-> 4303\u001b[1;33m             \u001b[1;32mraise\u001b[0m \u001b[0mKeyError\u001b[0m\u001b[1;33m(\u001b[0m\u001b[1;34mf\"None of {missing} are in the columns\"\u001b[0m\u001b[1;33m)\u001b[0m\u001b[1;33m\u001b[0m\u001b[1;33m\u001b[0m\u001b[0m\n\u001b[0m\u001b[0;32m   4304\u001b[0m \u001b[1;33m\u001b[0m\u001b[0m\n\u001b[0;32m   4305\u001b[0m         \u001b[1;32mif\u001b[0m \u001b[0minplace\u001b[0m\u001b[1;33m:\u001b[0m\u001b[1;33m\u001b[0m\u001b[1;33m\u001b[0m\u001b[0m\n",
      "\u001b[1;31mKeyError\u001b[0m: \"None of ['mtgo_id'] are in the columns\""
     ]
    }
   ],
   "source": [
    "#joining the two tables via the mtgo id value\n",
    "collection_df = collection_df.set_index('mtgo_id').join(small_scry.set_index('mtgo_id'))"
   ]
  },
  {
   "cell_type": "code",
   "execution_count": 7,
   "metadata": {},
   "outputs": [],
   "source": [
    "collection_df = collection_df.reset_index()\n",
    "prices = (collection_df['prices'])\n",
    "tix = list()\n",
    "for price in prices:\n",
    "    if type(price) == dict:\n",
    "        tix.append(float(price['tix']))\n",
    "    else:\n",
    "        tix.append(1)\n",
    "collection_df['tix'] = pd.Series(tix)"
   ]
  },
  {
   "cell_type": "code",
   "execution_count": 14,
   "metadata": {},
   "outputs": [
    {
     "data": {
      "text/plain": [
       "654.5600000000001"
      ]
     },
     "execution_count": 14,
     "metadata": {},
     "output_type": "execute_result"
    }
   ],
   "source": [
    "(collection_df['tix'] * collection_df['Quantity'].astype(int)).sum()"
   ]
  },
  {
   "cell_type": "code",
   "execution_count": 16,
   "metadata": {},
   "outputs": [
    {
     "data": {
      "text/plain": [
       "mtgo_id     28\n",
       "Quantity    28\n",
       "Name        28\n",
       "prices      28\n",
       "tix         28\n",
       "dtype: int64"
      ]
     },
     "execution_count": 16,
     "metadata": {},
     "output_type": "execute_result"
    }
   ],
   "source": [
    "collection_df[collection_df['tix']>1].count()"
   ]
  },
  {
   "cell_type": "code",
   "execution_count": 17,
   "metadata": {},
   "outputs": [
    {
     "data": {
      "text/html": [
       "<div>\n",
       "<style scoped>\n",
       "    .dataframe tbody tr th:only-of-type {\n",
       "        vertical-align: middle;\n",
       "    }\n",
       "\n",
       "    .dataframe tbody tr th {\n",
       "        vertical-align: top;\n",
       "    }\n",
       "\n",
       "    .dataframe thead th {\n",
       "        text-align: right;\n",
       "    }\n",
       "</style>\n",
       "<table border=\"1\" class=\"dataframe\">\n",
       "  <thead>\n",
       "    <tr style=\"text-align: right;\">\n",
       "      <th></th>\n",
       "      <th>mtgo_id</th>\n",
       "      <th>Quantity</th>\n",
       "      <th>Name</th>\n",
       "      <th>prices</th>\n",
       "      <th>tix</th>\n",
       "    </tr>\n",
       "  </thead>\n",
       "  <tbody>\n",
       "    <tr>\n",
       "      <th>0</th>\n",
       "      <td>1</td>\n",
       "      <td>1</td>\n",
       "      <td>Event Ticket</td>\n",
       "      <td>NaN</td>\n",
       "      <td>1.00</td>\n",
       "    </tr>\n",
       "    <tr>\n",
       "      <th>1</th>\n",
       "      <td>249</td>\n",
       "      <td>1</td>\n",
       "      <td>Island</td>\n",
       "      <td>{'usd': None, 'usd_foil': None, 'eur': None, '...</td>\n",
       "      <td>0.08</td>\n",
       "    </tr>\n",
       "    <tr>\n",
       "      <th>2</th>\n",
       "      <td>6771</td>\n",
       "      <td>4</td>\n",
       "      <td>Alarum</td>\n",
       "      <td>{'usd': '0.10', 'usd_foil': None, 'eur': '0.09...</td>\n",
       "      <td>0.07</td>\n",
       "    </tr>\n",
       "    <tr>\n",
       "      <th>3</th>\n",
       "      <td>6783</td>\n",
       "      <td>4</td>\n",
       "      <td>Armorer Guildmage</td>\n",
       "      <td>{'usd': '0.08', 'usd_foil': None, 'eur': '0.02...</td>\n",
       "      <td>0.07</td>\n",
       "    </tr>\n",
       "    <tr>\n",
       "      <th>4</th>\n",
       "      <td>6865</td>\n",
       "      <td>3</td>\n",
       "      <td>Civic Guildmage</td>\n",
       "      <td>{'usd': '0.14', 'usd_foil': None, 'eur': '0.02...</td>\n",
       "      <td>0.07</td>\n",
       "    </tr>\n",
       "    <tr>\n",
       "      <th>...</th>\n",
       "      <td>...</td>\n",
       "      <td>...</td>\n",
       "      <td>...</td>\n",
       "      <td>...</td>\n",
       "      <td>...</td>\n",
       "    </tr>\n",
       "    <tr>\n",
       "      <th>4932</th>\n",
       "      <td>83567</td>\n",
       "      <td>1</td>\n",
       "      <td>Forest</td>\n",
       "      <td>{'usd': '0.38', 'usd_foil': '0.41', 'eur': Non...</td>\n",
       "      <td>0.01</td>\n",
       "    </tr>\n",
       "    <tr>\n",
       "      <th>4933</th>\n",
       "      <td>87311</td>\n",
       "      <td>1</td>\n",
       "      <td>Plains</td>\n",
       "      <td>{'usd': '0.16', 'usd_foil': '0.61', 'eur': '0....</td>\n",
       "      <td>0.01</td>\n",
       "    </tr>\n",
       "    <tr>\n",
       "      <th>4934</th>\n",
       "      <td>87315</td>\n",
       "      <td>1</td>\n",
       "      <td>Swamp</td>\n",
       "      <td>{'usd': '0.18', 'usd_foil': '0.50', 'eur': '0....</td>\n",
       "      <td>0.01</td>\n",
       "    </tr>\n",
       "    <tr>\n",
       "      <th>4935</th>\n",
       "      <td>87317</td>\n",
       "      <td>1</td>\n",
       "      <td>Mountain</td>\n",
       "      <td>{'usd': '0.64', 'usd_foil': '0.72', 'eur': '0....</td>\n",
       "      <td>0.01</td>\n",
       "    </tr>\n",
       "    <tr>\n",
       "      <th>4936</th>\n",
       "      <td>87319</td>\n",
       "      <td>1</td>\n",
       "      <td>Forest</td>\n",
       "      <td>{'usd': '0.12', 'usd_foil': '0.37', 'eur': '0....</td>\n",
       "      <td>0.01</td>\n",
       "    </tr>\n",
       "  </tbody>\n",
       "</table>\n",
       "<p>4937 rows × 5 columns</p>\n",
       "</div>"
      ],
      "text/plain": [
       "      mtgo_id Quantity               Name  \\\n",
       "0           1        1       Event Ticket   \n",
       "1         249        1             Island   \n",
       "2        6771        4             Alarum   \n",
       "3        6783        4  Armorer Guildmage   \n",
       "4        6865        3    Civic Guildmage   \n",
       "...       ...      ...                ...   \n",
       "4932    83567        1             Forest   \n",
       "4933    87311        1             Plains   \n",
       "4934    87315        1              Swamp   \n",
       "4935    87317        1           Mountain   \n",
       "4936    87319        1             Forest   \n",
       "\n",
       "                                                 prices   tix  \n",
       "0                                                   NaN  1.00  \n",
       "1     {'usd': None, 'usd_foil': None, 'eur': None, '...  0.08  \n",
       "2     {'usd': '0.10', 'usd_foil': None, 'eur': '0.09...  0.07  \n",
       "3     {'usd': '0.08', 'usd_foil': None, 'eur': '0.02...  0.07  \n",
       "4     {'usd': '0.14', 'usd_foil': None, 'eur': '0.02...  0.07  \n",
       "...                                                 ...   ...  \n",
       "4932  {'usd': '0.38', 'usd_foil': '0.41', 'eur': Non...  0.01  \n",
       "4933  {'usd': '0.16', 'usd_foil': '0.61', 'eur': '0....  0.01  \n",
       "4934  {'usd': '0.18', 'usd_foil': '0.50', 'eur': '0....  0.01  \n",
       "4935  {'usd': '0.64', 'usd_foil': '0.72', 'eur': '0....  0.01  \n",
       "4936  {'usd': '0.12', 'usd_foil': '0.37', 'eur': '0....  0.01  \n",
       "\n",
       "[4937 rows x 5 columns]"
      ]
     },
     "execution_count": 17,
     "metadata": {},
     "output_type": "execute_result"
    }
   ],
   "source": []
  },
  {
   "cell_type": "code",
   "execution_count": null,
   "metadata": {},
   "outputs": [],
   "source": []
  }
 ],
 "metadata": {
  "kernelspec": {
   "display_name": "Python 3",
   "language": "python",
   "name": "python3"
  },
  "language_info": {
   "codemirror_mode": {
    "name": "ipython",
    "version": 3
   },
   "file_extension": ".py",
   "mimetype": "text/x-python",
   "name": "python",
   "nbconvert_exporter": "python",
   "pygments_lexer": "ipython3",
   "version": "3.7.6"
  }
 },
 "nbformat": 4,
 "nbformat_minor": 4
}
